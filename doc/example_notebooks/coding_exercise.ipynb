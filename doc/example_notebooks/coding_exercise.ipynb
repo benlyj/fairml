{
 "cells": [
  {
   "cell_type": "code",
   "execution_count": 1,
   "id": "69da71ed",
   "metadata": {},
   "outputs": [],
   "source": [
    "import numpy as np\n",
    "import pandas as pd\n",
    "import matplotlib.pyplot as plt\n",
    "import seaborn as sns\n",
    "from sklearn.model_selection import train_test_split\n",
    "from sklearn.linear_model import LinearRegression\n",
    "from sklearn.metrics import mean_absolute_error,mean_squared_error\n",
    "from sklearn.metrics import accuracy_score,confusion_matrix,classification_report,plot_confusion_matrix"
   ]
  },
  {
   "cell_type": "code",
   "execution_count": 137,
   "id": "8b237c16",
   "metadata": {},
   "outputs": [],
   "source": [
    "df = pd.read_csv('propublica_data_for_fairml.csv')"
   ]
  },
  {
   "cell_type": "code",
   "execution_count": 138,
   "id": "df779cb4",
   "metadata": {
    "scrolled": true
   },
   "outputs": [
    {
     "data": {
      "text/html": [
       "<div>\n",
       "<style scoped>\n",
       "    .dataframe tbody tr th:only-of-type {\n",
       "        vertical-align: middle;\n",
       "    }\n",
       "\n",
       "    .dataframe tbody tr th {\n",
       "        vertical-align: top;\n",
       "    }\n",
       "\n",
       "    .dataframe thead th {\n",
       "        text-align: right;\n",
       "    }\n",
       "</style>\n",
       "<table border=\"1\" class=\"dataframe\">\n",
       "  <thead>\n",
       "    <tr style=\"text-align: right;\">\n",
       "      <th></th>\n",
       "      <th>Two_yr_Recidivism</th>\n",
       "      <th>Number_of_Priors</th>\n",
       "      <th>score_factor</th>\n",
       "      <th>Age_Above_FourtyFive</th>\n",
       "      <th>Age_Below_TwentyFive</th>\n",
       "      <th>African_American</th>\n",
       "      <th>Asian</th>\n",
       "      <th>Hispanic</th>\n",
       "      <th>Native_American</th>\n",
       "      <th>Other</th>\n",
       "      <th>Female</th>\n",
       "      <th>Misdemeanor</th>\n",
       "    </tr>\n",
       "  </thead>\n",
       "  <tbody>\n",
       "    <tr>\n",
       "      <th>0</th>\n",
       "      <td>0</td>\n",
       "      <td>0</td>\n",
       "      <td>0</td>\n",
       "      <td>1</td>\n",
       "      <td>0</td>\n",
       "      <td>0</td>\n",
       "      <td>0</td>\n",
       "      <td>0</td>\n",
       "      <td>0</td>\n",
       "      <td>1</td>\n",
       "      <td>0</td>\n",
       "      <td>0</td>\n",
       "    </tr>\n",
       "    <tr>\n",
       "      <th>1</th>\n",
       "      <td>1</td>\n",
       "      <td>0</td>\n",
       "      <td>0</td>\n",
       "      <td>0</td>\n",
       "      <td>0</td>\n",
       "      <td>1</td>\n",
       "      <td>0</td>\n",
       "      <td>0</td>\n",
       "      <td>0</td>\n",
       "      <td>0</td>\n",
       "      <td>0</td>\n",
       "      <td>0</td>\n",
       "    </tr>\n",
       "    <tr>\n",
       "      <th>2</th>\n",
       "      <td>1</td>\n",
       "      <td>4</td>\n",
       "      <td>0</td>\n",
       "      <td>0</td>\n",
       "      <td>1</td>\n",
       "      <td>1</td>\n",
       "      <td>0</td>\n",
       "      <td>0</td>\n",
       "      <td>0</td>\n",
       "      <td>0</td>\n",
       "      <td>0</td>\n",
       "      <td>0</td>\n",
       "    </tr>\n",
       "    <tr>\n",
       "      <th>3</th>\n",
       "      <td>0</td>\n",
       "      <td>0</td>\n",
       "      <td>0</td>\n",
       "      <td>0</td>\n",
       "      <td>0</td>\n",
       "      <td>0</td>\n",
       "      <td>0</td>\n",
       "      <td>0</td>\n",
       "      <td>0</td>\n",
       "      <td>1</td>\n",
       "      <td>0</td>\n",
       "      <td>1</td>\n",
       "    </tr>\n",
       "    <tr>\n",
       "      <th>4</th>\n",
       "      <td>1</td>\n",
       "      <td>14</td>\n",
       "      <td>1</td>\n",
       "      <td>0</td>\n",
       "      <td>0</td>\n",
       "      <td>0</td>\n",
       "      <td>0</td>\n",
       "      <td>0</td>\n",
       "      <td>0</td>\n",
       "      <td>0</td>\n",
       "      <td>0</td>\n",
       "      <td>0</td>\n",
       "    </tr>\n",
       "  </tbody>\n",
       "</table>\n",
       "</div>"
      ],
      "text/plain": [
       "   Two_yr_Recidivism  Number_of_Priors  score_factor  Age_Above_FourtyFive  \\\n",
       "0                  0                 0             0                     1   \n",
       "1                  1                 0             0                     0   \n",
       "2                  1                 4             0                     0   \n",
       "3                  0                 0             0                     0   \n",
       "4                  1                14             1                     0   \n",
       "\n",
       "   Age_Below_TwentyFive  African_American  Asian  Hispanic  Native_American  \\\n",
       "0                     0                 0      0         0                0   \n",
       "1                     0                 1      0         0                0   \n",
       "2                     1                 1      0         0                0   \n",
       "3                     0                 0      0         0                0   \n",
       "4                     0                 0      0         0                0   \n",
       "\n",
       "   Other  Female  Misdemeanor  \n",
       "0      1       0            0  \n",
       "1      0       0            0  \n",
       "2      0       0            0  \n",
       "3      1       0            1  \n",
       "4      0       0            0  "
      ]
     },
     "execution_count": 138,
     "metadata": {},
     "output_type": "execute_result"
    }
   ],
   "source": [
    "df.head()"
   ]
  },
  {
   "cell_type": "markdown",
   "id": "89f5ad36",
   "metadata": {},
   "source": [
    "## EDA"
   ]
  },
  {
   "cell_type": "code",
   "execution_count": 139,
   "id": "80567a41",
   "metadata": {},
   "outputs": [
    {
     "name": "stdout",
     "output_type": "stream",
     "text": [
      "<class 'pandas.core.frame.DataFrame'>\n",
      "RangeIndex: 6172 entries, 0 to 6171\n",
      "Data columns (total 12 columns):\n",
      " #   Column                Non-Null Count  Dtype\n",
      "---  ------                --------------  -----\n",
      " 0   Two_yr_Recidivism     6172 non-null   int64\n",
      " 1   Number_of_Priors      6172 non-null   int64\n",
      " 2   score_factor          6172 non-null   int64\n",
      " 3   Age_Above_FourtyFive  6172 non-null   int64\n",
      " 4   Age_Below_TwentyFive  6172 non-null   int64\n",
      " 5   African_American      6172 non-null   int64\n",
      " 6   Asian                 6172 non-null   int64\n",
      " 7   Hispanic              6172 non-null   int64\n",
      " 8   Native_American       6172 non-null   int64\n",
      " 9   Other                 6172 non-null   int64\n",
      " 10  Female                6172 non-null   int64\n",
      " 11  Misdemeanor           6172 non-null   int64\n",
      "dtypes: int64(12)\n",
      "memory usage: 578.8 KB\n"
     ]
    }
   ],
   "source": [
    "df.info()"
   ]
  },
  {
   "cell_type": "markdown",
   "id": "48563ac9",
   "metadata": {},
   "source": [
    "- No missing data; no rows to be dropped"
   ]
  },
  {
   "cell_type": "code",
   "execution_count": 140,
   "id": "2d642774",
   "metadata": {},
   "outputs": [
    {
     "data": {
      "text/plain": [
       "Two_yr_Recidivism       0\n",
       "Number_of_Priors        0\n",
       "score_factor            0\n",
       "Age_Above_FourtyFive    0\n",
       "Age_Below_TwentyFive    0\n",
       "African_American        0\n",
       "Asian                   0\n",
       "Hispanic                0\n",
       "Native_American         0\n",
       "Other                   0\n",
       "Female                  0\n",
       "Misdemeanor             0\n",
       "dtype: int64"
      ]
     },
     "execution_count": 140,
     "metadata": {},
     "output_type": "execute_result"
    }
   ],
   "source": [
    "df.isna().sum()"
   ]
  },
  {
   "cell_type": "code",
   "execution_count": 141,
   "id": "70695d0c",
   "metadata": {},
   "outputs": [
    {
     "data": {
      "text/plain": [
       "0    3363\n",
       "1    2809\n",
       "Name: Two_yr_Recidivism, dtype: int64"
      ]
     },
     "execution_count": 141,
     "metadata": {},
     "output_type": "execute_result"
    }
   ],
   "source": [
    "df['Two_yr_Recidivism'].value_counts()"
   ]
  },
  {
   "cell_type": "markdown",
   "id": "d5e94cc9",
   "metadata": {},
   "source": [
    "- Based on the prompt:\n",
    "    - The binary variable `score_report` represents the result of the model’s prediction and another binary variable, `Two_yr_Recidivism`, indicates whether the convict actually reoffended in the subsequent two years.\n",
    "- **Check the metrics of the predictions by the ML model given in the prompt:**\n",
    "    - Accuracy `(TP+TN) / SampleSize`: how many correct predictions?\n",
    "    - Precision `TP / (TP+FP)`: how accurate are the positive predictions?\n",
    "    - Recall AKA sensitivity `TP / (TP+FN)`: model's strength in predicting positive outcome\n",
    "- Precision and recall become more important when there is an imbalance in classes to be predicted. In this dataset, `Two_yr_Recidivism` is split roughly equally. Hence, there is little surprise that accuracy, precision and recall all have very similar scores."
   ]
  },
  {
   "cell_type": "code",
   "execution_count": 142,
   "id": "27178599",
   "metadata": {},
   "outputs": [
    {
     "name": "stdout",
     "output_type": "stream",
     "text": [
      "              precision    recall  f1-score   support\n",
      "\n",
      "           0       0.69      0.70      0.69      3363\n",
      "           1       0.63      0.62      0.62      2809\n",
      "\n",
      "    accuracy                           0.66      6172\n",
      "   macro avg       0.66      0.66      0.66      6172\n",
      "weighted avg       0.66      0.66      0.66      6172\n",
      "\n"
     ]
    }
   ],
   "source": [
    "print(classification_report(df['Two_yr_Recidivism'], df['score_factor']))"
   ]
  },
  {
   "cell_type": "markdown",
   "id": "92870da0",
   "metadata": {},
   "source": [
    "- **Racial distribution**\n",
    "    - There is some inherent bias in the racial distribution of the dataset "
   ]
  },
  {
   "cell_type": "code",
   "execution_count": 143,
   "id": "3c793a1e",
   "metadata": {},
   "outputs": [],
   "source": [
    "def check_if_race_is_white(African_American, Asian, Hispanic, Native_American, Other):\n",
    "    if (African_American, Asian, Hispanic, Native_American, Other) == (0, 0, 0, 0, 0):\n",
    "        return 1"
   ]
  },
  {
   "cell_type": "code",
   "execution_count": 145,
   "id": "cdb2e463",
   "metadata": {},
   "outputs": [],
   "source": [
    "race_distribution = (\n",
    "    df.assign(\n",
    "        White=pd.Series(\n",
    "            np\n",
    "            .vectorize(check_if_race_is_white)\n",
    "            (df['African_American'], \n",
    "             df['Asian'], \n",
    "             df['Hispanic'], \n",
    "             df['Native_American'], \n",
    "             df['Other'])\n",
    "        )\n",
    "        .fillna(0)\n",
    "    )\n",
    "    [['African_American', 'Asian', 'Hispanic', 'Native_American', 'Other', 'White']]\n",
    "    .idxmax(axis=1)\n",
    ")"
   ]
  },
  {
   "cell_type": "code",
   "execution_count": 153,
   "id": "d33d867a",
   "metadata": {},
   "outputs": [
    {
     "data": {
      "text/plain": [
       "0                  Other\n",
       "1       African_American\n",
       "2       African_American\n",
       "3                  Other\n",
       "4                  White\n",
       "              ...       \n",
       "6167    African_American\n",
       "6168    African_American\n",
       "6169               Other\n",
       "6170    African_American\n",
       "6171            Hispanic\n",
       "Length: 6172, dtype: object"
      ]
     },
     "execution_count": 153,
     "metadata": {},
     "output_type": "execute_result"
    }
   ],
   "source": [
    "race_distribution"
   ]
  },
  {
   "cell_type": "code",
   "execution_count": 146,
   "id": "0d46585d",
   "metadata": {},
   "outputs": [
    {
     "data": {
      "text/html": [
       "<div>\n",
       "<style scoped>\n",
       "    .dataframe tbody tr th:only-of-type {\n",
       "        vertical-align: middle;\n",
       "    }\n",
       "\n",
       "    .dataframe tbody tr th {\n",
       "        vertical-align: top;\n",
       "    }\n",
       "\n",
       "    .dataframe thead th {\n",
       "        text-align: right;\n",
       "    }\n",
       "</style>\n",
       "<table border=\"1\" class=\"dataframe\">\n",
       "  <thead>\n",
       "    <tr style=\"text-align: right;\">\n",
       "      <th></th>\n",
       "      <th>count</th>\n",
       "      <th>percent_share</th>\n",
       "    </tr>\n",
       "  </thead>\n",
       "  <tbody>\n",
       "    <tr>\n",
       "      <th>African_American</th>\n",
       "      <td>3175</td>\n",
       "      <td>51.441996</td>\n",
       "    </tr>\n",
       "    <tr>\n",
       "      <th>White</th>\n",
       "      <td>2103</td>\n",
       "      <td>34.073234</td>\n",
       "    </tr>\n",
       "    <tr>\n",
       "      <th>Hispanic</th>\n",
       "      <td>509</td>\n",
       "      <td>8.246922</td>\n",
       "    </tr>\n",
       "    <tr>\n",
       "      <th>Other</th>\n",
       "      <td>343</td>\n",
       "      <td>5.557356</td>\n",
       "    </tr>\n",
       "    <tr>\n",
       "      <th>Asian</th>\n",
       "      <td>31</td>\n",
       "      <td>0.502268</td>\n",
       "    </tr>\n",
       "    <tr>\n",
       "      <th>Native_American</th>\n",
       "      <td>11</td>\n",
       "      <td>0.178224</td>\n",
       "    </tr>\n",
       "  </tbody>\n",
       "</table>\n",
       "</div>"
      ],
      "text/plain": [
       "                  count  percent_share\n",
       "African_American   3175      51.441996\n",
       "White              2103      34.073234\n",
       "Hispanic            509       8.246922\n",
       "Other               343       5.557356\n",
       "Asian                31       0.502268\n",
       "Native_American      11       0.178224"
      ]
     },
     "execution_count": 146,
     "metadata": {},
     "output_type": "execute_result"
    }
   ],
   "source": [
    "(\n",
    "    pd.DataFrame(race_distribution.value_counts())\n",
    "    .rename(columns={0: 'count'})\n",
    "    .assign(percent_share=lambda x: x['count']/x['count'].sum()*100)\n",
    ")"
   ]
  },
  {
   "cell_type": "markdown",
   "id": "152eb79a",
   "metadata": {},
   "source": [
    "- **Age distribution**\n",
    "     - There is some inherent bias in the age distribution of the dataset"
   ]
  },
  {
   "cell_type": "code",
   "execution_count": 147,
   "id": "d6a188c1",
   "metadata": {},
   "outputs": [],
   "source": [
    "def check_age(Age_Above_FourtyFive, Age_Below_TwentyFive):\n",
    "    if (Age_Above_FourtyFive, Age_Below_TwentyFive) == (0, 0):\n",
    "        return 1"
   ]
  },
  {
   "cell_type": "code",
   "execution_count": 150,
   "id": "51e4fd49",
   "metadata": {},
   "outputs": [],
   "source": [
    "age_distribution = (\n",
    "    df.assign(\n",
    "        Age_Between_TwentyFive_and_FourtyFive=pd.Series(\n",
    "            np.vectorize(check_age)\n",
    "            (df['Age_Above_FourtyFive'], \n",
    "             df['Age_Below_TwentyFive'])\n",
    "        )\n",
    "        .fillna(0)\n",
    "    )\n",
    "    [['Age_Above_FourtyFive', 'Age_Below_TwentyFive', 'Age_Between_TwentyFive_and_FourtyFive']]\n",
    "    .idxmax(axis=1)\n",
    ")"
   ]
  },
  {
   "cell_type": "code",
   "execution_count": 154,
   "id": "22ec5f6d",
   "metadata": {},
   "outputs": [
    {
     "data": {
      "text/plain": [
       "0                        Age_Above_FourtyFive\n",
       "1       Age_Between_TwentyFive_and_FourtyFive\n",
       "2                        Age_Below_TwentyFive\n",
       "3       Age_Between_TwentyFive_and_FourtyFive\n",
       "4       Age_Between_TwentyFive_and_FourtyFive\n",
       "                        ...                  \n",
       "6167                     Age_Below_TwentyFive\n",
       "6168                     Age_Below_TwentyFive\n",
       "6169                     Age_Above_FourtyFive\n",
       "6170    Age_Between_TwentyFive_and_FourtyFive\n",
       "6171                     Age_Below_TwentyFive\n",
       "Length: 6172, dtype: object"
      ]
     },
     "execution_count": 154,
     "metadata": {},
     "output_type": "execute_result"
    }
   ],
   "source": [
    "age_distribution"
   ]
  },
  {
   "cell_type": "code",
   "execution_count": 152,
   "id": "4296335b",
   "metadata": {
    "scrolled": true
   },
   "outputs": [
    {
     "data": {
      "text/html": [
       "<div>\n",
       "<style scoped>\n",
       "    .dataframe tbody tr th:only-of-type {\n",
       "        vertical-align: middle;\n",
       "    }\n",
       "\n",
       "    .dataframe tbody tr th {\n",
       "        vertical-align: top;\n",
       "    }\n",
       "\n",
       "    .dataframe thead th {\n",
       "        text-align: right;\n",
       "    }\n",
       "</style>\n",
       "<table border=\"1\" class=\"dataframe\">\n",
       "  <thead>\n",
       "    <tr style=\"text-align: right;\">\n",
       "      <th></th>\n",
       "      <th>count</th>\n",
       "      <th>percent_share</th>\n",
       "    </tr>\n",
       "  </thead>\n",
       "  <tbody>\n",
       "    <tr>\n",
       "      <th>Age_Between_TwentyFive_and_FourtyFive</th>\n",
       "      <td>3532</td>\n",
       "      <td>57.226183</td>\n",
       "    </tr>\n",
       "    <tr>\n",
       "      <th>Age_Below_TwentyFive</th>\n",
       "      <td>1347</td>\n",
       "      <td>21.824368</td>\n",
       "    </tr>\n",
       "    <tr>\n",
       "      <th>Age_Above_FourtyFive</th>\n",
       "      <td>1293</td>\n",
       "      <td>20.949449</td>\n",
       "    </tr>\n",
       "  </tbody>\n",
       "</table>\n",
       "</div>"
      ],
      "text/plain": [
       "                                       count  percent_share\n",
       "Age_Between_TwentyFive_and_FourtyFive   3532      57.226183\n",
       "Age_Below_TwentyFive                    1347      21.824368\n",
       "Age_Above_FourtyFive                    1293      20.949449"
      ]
     },
     "execution_count": 152,
     "metadata": {},
     "output_type": "execute_result"
    }
   ],
   "source": [
    "(\n",
    "    pd.DataFrame(age_distribution.value_counts())\n",
    "    .rename(columns={0: 'count'})\n",
    "    .assign(percent_share=lambda x: x['count']/x['count'].sum()*100)\n",
    ")"
   ]
  },
  {
   "cell_type": "markdown",
   "id": "aa1c36c1",
   "metadata": {},
   "source": [
    "- **Gender distribution**\n",
    "     - There is some inherent bias in the gender distribution of the dataset"
   ]
  },
  {
   "cell_type": "code",
   "execution_count": 160,
   "id": "29d63107",
   "metadata": {},
   "outputs": [
    {
     "data": {
      "text/html": [
       "<div>\n",
       "<style scoped>\n",
       "    .dataframe tbody tr th:only-of-type {\n",
       "        vertical-align: middle;\n",
       "    }\n",
       "\n",
       "    .dataframe tbody tr th {\n",
       "        vertical-align: top;\n",
       "    }\n",
       "\n",
       "    .dataframe thead th {\n",
       "        text-align: right;\n",
       "    }\n",
       "</style>\n",
       "<table border=\"1\" class=\"dataframe\">\n",
       "  <thead>\n",
       "    <tr style=\"text-align: right;\">\n",
       "      <th></th>\n",
       "      <th>count</th>\n",
       "      <th>percent_share</th>\n",
       "    </tr>\n",
       "  </thead>\n",
       "  <tbody>\n",
       "    <tr>\n",
       "      <th>Male</th>\n",
       "      <td>4997</td>\n",
       "      <td>80.962411</td>\n",
       "    </tr>\n",
       "    <tr>\n",
       "      <th>Female</th>\n",
       "      <td>1175</td>\n",
       "      <td>19.037589</td>\n",
       "    </tr>\n",
       "  </tbody>\n",
       "</table>\n",
       "</div>"
      ],
      "text/plain": [
       "        count  percent_share\n",
       "Male     4997      80.962411\n",
       "Female   1175      19.037589"
      ]
     },
     "execution_count": 160,
     "metadata": {},
     "output_type": "execute_result"
    }
   ],
   "source": [
    "(\n",
    "    pd.DataFrame(df['Female'].value_counts())\n",
    "    .rename(columns={'Female': 'count'}, index={0: 'Male', 1: 'Female'})\n",
    "    .assign(percent_share=lambda x: x['count']/x['count'].sum()*100)\n",
    ")"
   ]
  },
  {
   "cell_type": "markdown",
   "id": "f028767c",
   "metadata": {},
   "source": [
    "### Influence of variables against `Two_yr_Recidivism`"
   ]
  },
  {
   "cell_type": "markdown",
   "id": "e8c608a3",
   "metadata": {},
   "source": [
    "- `Number_of_Priors`"
   ]
  },
  {
   "cell_type": "code",
   "execution_count": 11,
   "id": "c6b600d3",
   "metadata": {
    "scrolled": true
   },
   "outputs": [
    {
     "data": {
      "text/plain": [
       "<AxesSubplot: xlabel='Two_yr_Recidivism', ylabel='Number_of_Priors'>"
      ]
     },
     "execution_count": 11,
     "metadata": {},
     "output_type": "execute_result"
    },
    {
     "data": {
      "image/png": "[encoded data removed]",
      "text/plain": [
       "<Figure size 432x288 with 1 Axes>"
      ]
     },
     "metadata": {
      "needs_background": "light"
     },
     "output_type": "display_data"
    }
   ],
   "source": [
    "sns.boxplot(\n",
    "    data=df.assign(Two_yr_Recidivism=lambda x: x['Two_yr_Recidivism'].map({0:'No', 1: 'Yes'})),\n",
    "    y='Number_of_Priors',\n",
    "    x='Two_yr_Recidivism'\n",
    ")"
   ]
  },
  {
   "cell_type": "markdown",
   "id": "84646f5b",
   "metadata": {},
   "source": [
    "- `Age_Below_TwentyFive`\n",
    "- `African_American`\n",
    "- `Hispanic`\n",
    "- `Asian`\n",
    "- `Native_American`\n",
    "- `Female`\n",
    "- `Misdemeanor`"
   ]
  },
  {
   "cell_type": "code",
   "execution_count": 12,
   "id": "79e0b91c",
   "metadata": {
    "scrolled": true
   },
   "outputs": [
    {
     "data": {
      "text/plain": [
       "Two_yr_Recidivism  Age_Below_TwentyFive\n",
       "0                  0                       2770\n",
       "                   1                        593\n",
       "1                  0                       2055\n",
       "                   1                        754\n",
       "dtype: int64"
      ]
     },
     "execution_count": 12,
     "metadata": {},
     "output_type": "execute_result"
    }
   ],
   "source": [
    "df.groupby(['Two_yr_Recidivism', 'Age_Below_TwentyFive']).size()"
   ]
  },
  {
   "cell_type": "code",
   "execution_count": 13,
   "id": "1f0ca529",
   "metadata": {
    "scrolled": true
   },
   "outputs": [
    {
     "data": {
      "image/png": "[encoded data removed]",
      "text/plain": [
       "<Figure size 482x360 with 1 Axes>"
      ]
     },
     "metadata": {
      "needs_background": "light"
     },
     "output_type": "display_data"
    },
    {
     "data": {
      "image/png": "[encoded data removed]",
      "text/plain": [
       "<Figure size 455.75x360 with 1 Axes>"
      ]
     },
     "metadata": {
      "needs_background": "light"
     },
     "output_type": "display_data"
    },
    {
     "data": {
      "image/png": "[encoded data removed]",
      "text/plain": [
       "<Figure size 410.75x360 with 1 Axes>"
      ]
     },
     "metadata": {
      "needs_background": "light"
     },
     "output_type": "display_data"
    },
    {
     "data": {
      "image/png": "[encoded data removed]",
      "text/plain": [
       "<Figure size 402.375x360 with 1 Axes>"
      ]
     },
     "metadata": {
      "needs_background": "light"
     },
     "output_type": "display_data"
    },
    {
     "data": {
      "image/png": "[encoded data removed]",
      "text/plain": [
       "<Figure size 453x360 with 1 Axes>"
      ]
     },
     "metadata": {
      "needs_background": "light"
     },
     "output_type": "display_data"
    },
    {
     "data": {
      "image/png": "[encoded data removed]",
      "text/plain": [
       "<Figure size 404.125x360 with 1 Axes>"
      ]
     },
     "metadata": {
      "needs_background": "light"
     },
     "output_type": "display_data"
    },
    {
     "data": {
      "image/png": "[encoded data removed]",
      "text/plain": [
       "<Figure size 435.625x360 with 1 Axes>"
      ]
     },
     "metadata": {
      "needs_background": "light"
     },
     "output_type": "display_data"
    }
   ],
   "source": [
    "for col in [\n",
    "    'Age_Below_TwentyFive',\n",
    "    'African_American',\n",
    "    'Hispanic',\n",
    "    'Asian',\n",
    "    'Native_American',\n",
    "    'Female',\n",
    "    'Misdemeanor',\n",
    "]:\n",
    "    sns.displot(\n",
    "        data=df.assign(Two_yr_Recidivism=lambda x: x['Two_yr_Recidivism'].map({0:'No', 1: 'Yes'})), \n",
    "        x='Two_yr_Recidivism', \n",
    "        hue=col, \n",
    "        multiple='stack'\n",
    "    )"
   ]
  },
  {
   "cell_type": "markdown",
   "id": "4cf7b235",
   "metadata": {},
   "source": [
    "### Correlation"
   ]
  },
  {
   "cell_type": "code",
   "execution_count": 216,
   "id": "c90b915a",
   "metadata": {
    "scrolled": false
   },
   "outputs": [
    {
     "data": {
      "text/html": [
       "<div>\n",
       "<style scoped>\n",
       "    .dataframe tbody tr th:only-of-type {\n",
       "        vertical-align: middle;\n",
       "    }\n",
       "\n",
       "    .dataframe tbody tr th {\n",
       "        vertical-align: top;\n",
       "    }\n",
       "\n",
       "    .dataframe thead th {\n",
       "        text-align: right;\n",
       "    }\n",
       "</style>\n",
       "<table border=\"1\" class=\"dataframe\">\n",
       "  <thead>\n",
       "    <tr style=\"text-align: right;\">\n",
       "      <th></th>\n",
       "      <th>Two_yr_Recidivism</th>\n",
       "      <th>Number_of_Priors</th>\n",
       "      <th>score_factor</th>\n",
       "      <th>Age_Above_FourtyFive</th>\n",
       "      <th>Age_Below_TwentyFive</th>\n",
       "      <th>African_American</th>\n",
       "      <th>Asian</th>\n",
       "      <th>Hispanic</th>\n",
       "      <th>Native_American</th>\n",
       "      <th>Other</th>\n",
       "      <th>Female</th>\n",
       "      <th>Misdemeanor</th>\n",
       "    </tr>\n",
       "  </thead>\n",
       "  <tbody>\n",
       "    <tr>\n",
       "      <th>Two_yr_Recidivism</th>\n",
       "      <td>1.000000</td>\n",
       "      <td>0.290607</td>\n",
       "      <td>0.314832</td>\n",
       "      <td>-0.139490</td>\n",
       "      <td>0.111027</td>\n",
       "      <td>0.140609</td>\n",
       "      <td>-0.028115</td>\n",
       "      <td>-0.050453</td>\n",
       "      <td>-0.000049</td>\n",
       "      <td>-0.045596</td>\n",
       "      <td>-0.100911</td>\n",
       "      <td>-0.120332</td>\n",
       "    </tr>\n",
       "    <tr>\n",
       "      <th>Number_of_Priors</th>\n",
       "      <td>0.290607</td>\n",
       "      <td>1.000000</td>\n",
       "      <td>0.380650</td>\n",
       "      <td>0.058449</td>\n",
       "      <td>-0.211281</td>\n",
       "      <td>0.215184</td>\n",
       "      <td>-0.028334</td>\n",
       "      <td>-0.072447</td>\n",
       "      <td>0.017240</td>\n",
       "      <td>-0.076714</td>\n",
       "      <td>-0.118722</td>\n",
       "      <td>-0.145433</td>\n",
       "    </tr>\n",
       "    <tr>\n",
       "      <th>score_factor</th>\n",
       "      <td>0.314832</td>\n",
       "      <td>0.380650</td>\n",
       "      <td>1.000000</td>\n",
       "      <td>-0.233351</td>\n",
       "      <td>0.209613</td>\n",
       "      <td>0.269905</td>\n",
       "      <td>-0.031436</td>\n",
       "      <td>-0.101760</td>\n",
       "      <td>0.023935</td>\n",
       "      <td>-0.117930</td>\n",
       "      <td>-0.039625</td>\n",
       "      <td>-0.167039</td>\n",
       "    </tr>\n",
       "    <tr>\n",
       "      <th>Age_Above_FourtyFive</th>\n",
       "      <td>-0.139490</td>\n",
       "      <td>0.058449</td>\n",
       "      <td>-0.233351</td>\n",
       "      <td>1.000000</td>\n",
       "      <td>-0.272000</td>\n",
       "      <td>-0.157048</td>\n",
       "      <td>0.025376</td>\n",
       "      <td>0.003426</td>\n",
       "      <td>-0.002874</td>\n",
       "      <td>0.005463</td>\n",
       "      <td>-0.006243</td>\n",
       "      <td>0.072051</td>\n",
       "    </tr>\n",
       "    <tr>\n",
       "      <th>Age_Below_TwentyFive</th>\n",
       "      <td>0.111027</td>\n",
       "      <td>-0.211281</td>\n",
       "      <td>0.209613</td>\n",
       "      <td>-0.272000</td>\n",
       "      <td>1.000000</td>\n",
       "      <td>0.091101</td>\n",
       "      <td>-0.004248</td>\n",
       "      <td>-0.002975</td>\n",
       "      <td>-0.003726</td>\n",
       "      <td>-0.001468</td>\n",
       "      <td>-0.010427</td>\n",
       "      <td>-0.083170</td>\n",
       "    </tr>\n",
       "    <tr>\n",
       "      <th>African_American</th>\n",
       "      <td>0.140609</td>\n",
       "      <td>0.215184</td>\n",
       "      <td>0.269905</td>\n",
       "      <td>-0.157048</td>\n",
       "      <td>0.091101</td>\n",
       "      <td>1.000000</td>\n",
       "      <td>-0.073129</td>\n",
       "      <td>-0.308577</td>\n",
       "      <td>-0.043491</td>\n",
       "      <td>-0.249677</td>\n",
       "      <td>-0.045781</td>\n",
       "      <td>-0.104047</td>\n",
       "    </tr>\n",
       "    <tr>\n",
       "      <th>Asian</th>\n",
       "      <td>-0.028115</td>\n",
       "      <td>-0.028334</td>\n",
       "      <td>-0.031436</td>\n",
       "      <td>0.025376</td>\n",
       "      <td>-0.004248</td>\n",
       "      <td>-0.073129</td>\n",
       "      <td>1.000000</td>\n",
       "      <td>-0.021301</td>\n",
       "      <td>-0.003002</td>\n",
       "      <td>-0.017235</td>\n",
       "      <td>-0.022777</td>\n",
       "      <td>0.004498</td>\n",
       "    </tr>\n",
       "    <tr>\n",
       "      <th>Hispanic</th>\n",
       "      <td>-0.050453</td>\n",
       "      <td>-0.072447</td>\n",
       "      <td>-0.101760</td>\n",
       "      <td>0.003426</td>\n",
       "      <td>-0.002975</td>\n",
       "      <td>-0.308577</td>\n",
       "      <td>-0.021301</td>\n",
       "      <td>1.000000</td>\n",
       "      <td>-0.012668</td>\n",
       "      <td>-0.072725</td>\n",
       "      <td>-0.022356</td>\n",
       "      <td>0.044758</td>\n",
       "    </tr>\n",
       "    <tr>\n",
       "      <th>Native_American</th>\n",
       "      <td>-0.000049</td>\n",
       "      <td>0.017240</td>\n",
       "      <td>0.023935</td>\n",
       "      <td>-0.002874</td>\n",
       "      <td>-0.003726</td>\n",
       "      <td>-0.043491</td>\n",
       "      <td>-0.003002</td>\n",
       "      <td>-0.012668</td>\n",
       "      <td>1.000000</td>\n",
       "      <td>-0.010250</td>\n",
       "      <td>-0.000921</td>\n",
       "      <td>0.000605</td>\n",
       "    </tr>\n",
       "    <tr>\n",
       "      <th>Other</th>\n",
       "      <td>-0.045596</td>\n",
       "      <td>-0.076714</td>\n",
       "      <td>-0.117930</td>\n",
       "      <td>0.005463</td>\n",
       "      <td>-0.001468</td>\n",
       "      <td>-0.249677</td>\n",
       "      <td>-0.017235</td>\n",
       "      <td>-0.072725</td>\n",
       "      <td>-0.010250</td>\n",
       "      <td>1.000000</td>\n",
       "      <td>-0.013148</td>\n",
       "      <td>0.011260</td>\n",
       "    </tr>\n",
       "    <tr>\n",
       "      <th>Female</th>\n",
       "      <td>-0.100911</td>\n",
       "      <td>-0.118722</td>\n",
       "      <td>-0.039625</td>\n",
       "      <td>-0.006243</td>\n",
       "      <td>-0.010427</td>\n",
       "      <td>-0.045781</td>\n",
       "      <td>-0.022777</td>\n",
       "      <td>-0.022356</td>\n",
       "      <td>-0.000921</td>\n",
       "      <td>-0.013148</td>\n",
       "      <td>1.000000</td>\n",
       "      <td>0.061848</td>\n",
       "    </tr>\n",
       "    <tr>\n",
       "      <th>Misdemeanor</th>\n",
       "      <td>-0.120332</td>\n",
       "      <td>-0.145433</td>\n",
       "      <td>-0.167039</td>\n",
       "      <td>0.072051</td>\n",
       "      <td>-0.083170</td>\n",
       "      <td>-0.104047</td>\n",
       "      <td>0.004498</td>\n",
       "      <td>0.044758</td>\n",
       "      <td>0.000605</td>\n",
       "      <td>0.011260</td>\n",
       "      <td>0.061848</td>\n",
       "      <td>1.000000</td>\n",
       "    </tr>\n",
       "  </tbody>\n",
       "</table>\n",
       "</div>"
      ],
      "text/plain": [
       "                      Two_yr_Recidivism  Number_of_Priors  score_factor  \\\n",
       "Two_yr_Recidivism              1.000000          0.290607      0.314832   \n",
       "Number_of_Priors               0.290607          1.000000      0.380650   \n",
       "score_factor                   0.314832          0.380650      1.000000   \n",
       "Age_Above_FourtyFive          -0.139490          0.058449     -0.233351   \n",
       "Age_Below_TwentyFive           0.111027         -0.211281      0.209613   \n",
       "African_American               0.140609          0.215184      0.269905   \n",
       "Asian                         -0.028115         -0.028334     -0.031436   \n",
       "Hispanic                      -0.050453         -0.072447     -0.101760   \n",
       "Native_American               -0.000049          0.017240      0.023935   \n",
       "Other                         -0.045596         -0.076714     -0.117930   \n",
       "Female                        -0.100911         -0.118722     -0.039625   \n",
       "Misdemeanor                   -0.120332         -0.145433     -0.167039   \n",
       "\n",
       "                      Age_Above_FourtyFive  Age_Below_TwentyFive  \\\n",
       "Two_yr_Recidivism                -0.139490              0.111027   \n",
       "Number_of_Priors                  0.058449             -0.211281   \n",
       "score_factor                     -0.233351              0.209613   \n",
       "Age_Above_FourtyFive              1.000000             -0.272000   \n",
       "Age_Below_TwentyFive             -0.272000              1.000000   \n",
       "African_American                 -0.157048              0.091101   \n",
       "Asian                             0.025376             -0.004248   \n",
       "Hispanic                          0.003426             -0.002975   \n",
       "Native_American                  -0.002874             -0.003726   \n",
       "Other                             0.005463             -0.001468   \n",
       "Female                           -0.006243             -0.010427   \n",
       "Misdemeanor                       0.072051             -0.083170   \n",
       "\n",
       "                      African_American     Asian  Hispanic  Native_American  \\\n",
       "Two_yr_Recidivism             0.140609 -0.028115 -0.050453        -0.000049   \n",
       "Number_of_Priors              0.215184 -0.028334 -0.072447         0.017240   \n",
       "score_factor                  0.269905 -0.031436 -0.101760         0.023935   \n",
       "Age_Above_FourtyFive         -0.157048  0.025376  0.003426        -0.002874   \n",
       "Age_Below_TwentyFive          0.091101 -0.004248 -0.002975        -0.003726   \n",
       "African_American              1.000000 -0.073129 -0.308577        -0.043491   \n",
       "Asian                        -0.073129  1.000000 -0.021301        -0.003002   \n",
       "Hispanic                     -0.308577 -0.021301  1.000000        -0.012668   \n",
       "Native_American              -0.043491 -0.003002 -0.012668         1.000000   \n",
       "Other                        -0.249677 -0.017235 -0.072725        -0.010250   \n",
       "Female                       -0.045781 -0.022777 -0.022356        -0.000921   \n",
       "Misdemeanor                  -0.104047  0.004498  0.044758         0.000605   \n",
       "\n",
       "                         Other    Female  Misdemeanor  \n",
       "Two_yr_Recidivism    -0.045596 -0.100911    -0.120332  \n",
       "Number_of_Priors     -0.076714 -0.118722    -0.145433  \n",
       "score_factor         -0.117930 -0.039625    -0.167039  \n",
       "Age_Above_FourtyFive  0.005463 -0.006243     0.072051  \n",
       "Age_Below_TwentyFive -0.001468 -0.010427    -0.083170  \n",
       "African_American     -0.249677 -0.045781    -0.104047  \n",
       "Asian                -0.017235 -0.022777     0.004498  \n",
       "Hispanic             -0.072725 -0.022356     0.044758  \n",
       "Native_American      -0.010250 -0.000921     0.000605  \n",
       "Other                 1.000000 -0.013148     0.011260  \n",
       "Female               -0.013148  1.000000     0.061848  \n",
       "Misdemeanor           0.011260  0.061848     1.000000  "
      ]
     },
     "execution_count": 216,
     "metadata": {},
     "output_type": "execute_result"
    }
   ],
   "source": [
    "df.corr()"
   ]
  },
  {
   "cell_type": "markdown",
   "id": "c61140b3",
   "metadata": {},
   "source": [
    "## Preprocessing"
   ]
  },
  {
   "cell_type": "code",
   "execution_count": 172,
   "id": "a78e8e7d",
   "metadata": {},
   "outputs": [],
   "source": [
    "def assign_category(num_priors):\n",
    "    if num_priors == 0:\n",
    "        category = 'A'\n",
    "    elif 1 <= num_priors <= 3:\n",
    "        category = 'B'\n",
    "    elif 4 <= num_priors <= 10:\n",
    "        category = 'C'\n",
    "    else:\n",
    "        category = 'D'\n",
    "    return category"
   ]
  },
  {
   "cell_type": "code",
   "execution_count": 173,
   "id": "d96bdcd8",
   "metadata": {},
   "outputs": [],
   "source": [
    "processed_df = (\n",
    "    df.assign(\n",
    "        # Column for White race\n",
    "        White=pd.Series(\n",
    "            np\n",
    "            .vectorize(check_if_race_is_white)\n",
    "            (df['African_American'], \n",
    "             df['Asian'], \n",
    "             df['Hispanic'], \n",
    "             df['Native_American'], \n",
    "             df['Other'])\n",
    "        )\n",
    "        .fillna(0),\n",
    "        # Column for category based on number of priors\n",
    "        Category=np.vectorize(assign_category)(df['Number_of_Priors'])\n",
    "    )\n",
    ")"
   ]
  },
  {
   "cell_type": "code",
   "execution_count": 174,
   "id": "ba54ef3b",
   "metadata": {},
   "outputs": [
    {
     "data": {
      "text/html": [
       "<div>\n",
       "<style scoped>\n",
       "    .dataframe tbody tr th:only-of-type {\n",
       "        vertical-align: middle;\n",
       "    }\n",
       "\n",
       "    .dataframe tbody tr th {\n",
       "        vertical-align: top;\n",
       "    }\n",
       "\n",
       "    .dataframe thead th {\n",
       "        text-align: right;\n",
       "    }\n",
       "</style>\n",
       "<table border=\"1\" class=\"dataframe\">\n",
       "  <thead>\n",
       "    <tr style=\"text-align: right;\">\n",
       "      <th></th>\n",
       "      <th>Two_yr_Recidivism</th>\n",
       "      <th>Number_of_Priors</th>\n",
       "      <th>score_factor</th>\n",
       "      <th>Age_Above_FourtyFive</th>\n",
       "      <th>Age_Below_TwentyFive</th>\n",
       "      <th>African_American</th>\n",
       "      <th>Asian</th>\n",
       "      <th>Hispanic</th>\n",
       "      <th>Native_American</th>\n",
       "      <th>Other</th>\n",
       "      <th>Female</th>\n",
       "      <th>Misdemeanor</th>\n",
       "      <th>White</th>\n",
       "      <th>Category</th>\n",
       "    </tr>\n",
       "  </thead>\n",
       "  <tbody>\n",
       "    <tr>\n",
       "      <th>0</th>\n",
       "      <td>0</td>\n",
       "      <td>0</td>\n",
       "      <td>0</td>\n",
       "      <td>1</td>\n",
       "      <td>0</td>\n",
       "      <td>0</td>\n",
       "      <td>0</td>\n",
       "      <td>0</td>\n",
       "      <td>0</td>\n",
       "      <td>1</td>\n",
       "      <td>0</td>\n",
       "      <td>0</td>\n",
       "      <td>0</td>\n",
       "      <td>A</td>\n",
       "    </tr>\n",
       "    <tr>\n",
       "      <th>1</th>\n",
       "      <td>1</td>\n",
       "      <td>0</td>\n",
       "      <td>0</td>\n",
       "      <td>0</td>\n",
       "      <td>0</td>\n",
       "      <td>1</td>\n",
       "      <td>0</td>\n",
       "      <td>0</td>\n",
       "      <td>0</td>\n",
       "      <td>0</td>\n",
       "      <td>0</td>\n",
       "      <td>0</td>\n",
       "      <td>0</td>\n",
       "      <td>A</td>\n",
       "    </tr>\n",
       "    <tr>\n",
       "      <th>2</th>\n",
       "      <td>1</td>\n",
       "      <td>4</td>\n",
       "      <td>0</td>\n",
       "      <td>0</td>\n",
       "      <td>1</td>\n",
       "      <td>1</td>\n",
       "      <td>0</td>\n",
       "      <td>0</td>\n",
       "      <td>0</td>\n",
       "      <td>0</td>\n",
       "      <td>0</td>\n",
       "      <td>0</td>\n",
       "      <td>0</td>\n",
       "      <td>C</td>\n",
       "    </tr>\n",
       "    <tr>\n",
       "      <th>3</th>\n",
       "      <td>0</td>\n",
       "      <td>0</td>\n",
       "      <td>0</td>\n",
       "      <td>0</td>\n",
       "      <td>0</td>\n",
       "      <td>0</td>\n",
       "      <td>0</td>\n",
       "      <td>0</td>\n",
       "      <td>0</td>\n",
       "      <td>1</td>\n",
       "      <td>0</td>\n",
       "      <td>1</td>\n",
       "      <td>0</td>\n",
       "      <td>A</td>\n",
       "    </tr>\n",
       "    <tr>\n",
       "      <th>4</th>\n",
       "      <td>1</td>\n",
       "      <td>14</td>\n",
       "      <td>1</td>\n",
       "      <td>0</td>\n",
       "      <td>0</td>\n",
       "      <td>0</td>\n",
       "      <td>0</td>\n",
       "      <td>0</td>\n",
       "      <td>0</td>\n",
       "      <td>0</td>\n",
       "      <td>0</td>\n",
       "      <td>0</td>\n",
       "      <td>1</td>\n",
       "      <td>D</td>\n",
       "    </tr>\n",
       "    <tr>\n",
       "      <th>...</th>\n",
       "      <td>...</td>\n",
       "      <td>...</td>\n",
       "      <td>...</td>\n",
       "      <td>...</td>\n",
       "      <td>...</td>\n",
       "      <td>...</td>\n",
       "      <td>...</td>\n",
       "      <td>...</td>\n",
       "      <td>...</td>\n",
       "      <td>...</td>\n",
       "      <td>...</td>\n",
       "      <td>...</td>\n",
       "      <td>...</td>\n",
       "      <td>...</td>\n",
       "    </tr>\n",
       "    <tr>\n",
       "      <th>6167</th>\n",
       "      <td>0</td>\n",
       "      <td>0</td>\n",
       "      <td>1</td>\n",
       "      <td>0</td>\n",
       "      <td>1</td>\n",
       "      <td>1</td>\n",
       "      <td>0</td>\n",
       "      <td>0</td>\n",
       "      <td>0</td>\n",
       "      <td>0</td>\n",
       "      <td>0</td>\n",
       "      <td>0</td>\n",
       "      <td>0</td>\n",
       "      <td>A</td>\n",
       "    </tr>\n",
       "    <tr>\n",
       "      <th>6168</th>\n",
       "      <td>0</td>\n",
       "      <td>0</td>\n",
       "      <td>0</td>\n",
       "      <td>0</td>\n",
       "      <td>1</td>\n",
       "      <td>1</td>\n",
       "      <td>0</td>\n",
       "      <td>0</td>\n",
       "      <td>0</td>\n",
       "      <td>0</td>\n",
       "      <td>0</td>\n",
       "      <td>0</td>\n",
       "      <td>0</td>\n",
       "      <td>A</td>\n",
       "    </tr>\n",
       "    <tr>\n",
       "      <th>6169</th>\n",
       "      <td>0</td>\n",
       "      <td>0</td>\n",
       "      <td>0</td>\n",
       "      <td>1</td>\n",
       "      <td>0</td>\n",
       "      <td>0</td>\n",
       "      <td>0</td>\n",
       "      <td>0</td>\n",
       "      <td>0</td>\n",
       "      <td>1</td>\n",
       "      <td>0</td>\n",
       "      <td>0</td>\n",
       "      <td>0</td>\n",
       "      <td>A</td>\n",
       "    </tr>\n",
       "    <tr>\n",
       "      <th>6170</th>\n",
       "      <td>0</td>\n",
       "      <td>3</td>\n",
       "      <td>0</td>\n",
       "      <td>0</td>\n",
       "      <td>0</td>\n",
       "      <td>1</td>\n",
       "      <td>0</td>\n",
       "      <td>0</td>\n",
       "      <td>0</td>\n",
       "      <td>0</td>\n",
       "      <td>1</td>\n",
       "      <td>1</td>\n",
       "      <td>0</td>\n",
       "      <td>B</td>\n",
       "    </tr>\n",
       "    <tr>\n",
       "      <th>6171</th>\n",
       "      <td>1</td>\n",
       "      <td>2</td>\n",
       "      <td>0</td>\n",
       "      <td>0</td>\n",
       "      <td>1</td>\n",
       "      <td>0</td>\n",
       "      <td>0</td>\n",
       "      <td>1</td>\n",
       "      <td>0</td>\n",
       "      <td>0</td>\n",
       "      <td>1</td>\n",
       "      <td>0</td>\n",
       "      <td>0</td>\n",
       "      <td>B</td>\n",
       "    </tr>\n",
       "  </tbody>\n",
       "</table>\n",
       "<p>6172 rows × 14 columns</p>\n",
       "</div>"
      ],
      "text/plain": [
       "      Two_yr_Recidivism  Number_of_Priors  score_factor  Age_Above_FourtyFive  \\\n",
       "0                     0                 0             0                     1   \n",
       "1                     1                 0             0                     0   \n",
       "2                     1                 4             0                     0   \n",
       "3                     0                 0             0                     0   \n",
       "4                     1                14             1                     0   \n",
       "...                 ...               ...           ...                   ...   \n",
       "6167                  0                 0             1                     0   \n",
       "6168                  0                 0             0                     0   \n",
       "6169                  0                 0             0                     1   \n",
       "6170                  0                 3             0                     0   \n",
       "6171                  1                 2             0                     0   \n",
       "\n",
       "      Age_Below_TwentyFive  African_American  Asian  Hispanic  \\\n",
       "0                        0                 0      0         0   \n",
       "1                        0                 1      0         0   \n",
       "2                        1                 1      0         0   \n",
       "3                        0                 0      0         0   \n",
       "4                        0                 0      0         0   \n",
       "...                    ...               ...    ...       ...   \n",
       "6167                     1                 1      0         0   \n",
       "6168                     1                 1      0         0   \n",
       "6169                     0                 0      0         0   \n",
       "6170                     0                 1      0         0   \n",
       "6171                     1                 0      0         1   \n",
       "\n",
       "      Native_American  Other  Female  Misdemeanor  White Category  \n",
       "0                   0      1       0            0      0        A  \n",
       "1                   0      0       0            0      0        A  \n",
       "2                   0      0       0            0      0        C  \n",
       "3                   0      1       0            1      0        A  \n",
       "4                   0      0       0            0      1        D  \n",
       "...               ...    ...     ...          ...    ...      ...  \n",
       "6167                0      0       0            0      0        A  \n",
       "6168                0      0       0            0      0        A  \n",
       "6169                0      1       0            0      0        A  \n",
       "6170                0      0       1            1      0        B  \n",
       "6171                0      0       1            0      0        B  \n",
       "\n",
       "[6172 rows x 14 columns]"
      ]
     },
     "execution_count": 174,
     "metadata": {},
     "output_type": "execute_result"
    }
   ],
   "source": [
    "processed_df"
   ]
  },
  {
   "cell_type": "markdown",
   "id": "f118816a",
   "metadata": {},
   "source": [
    "## Modelling for Two_yr_Recidivism"
   ]
  },
  {
   "cell_type": "code",
   "execution_count": 195,
   "id": "9ee87bd4",
   "metadata": {},
   "outputs": [],
   "source": [
    "# Splitting X and y\n",
    "X_1 = processed_df[[\n",
    "    'Number_of_Priors', 'Age_Below_TwentyFive', 'African_American', \n",
    "    'Hispanic', 'Asian', 'Native_American', 'Female', 'Misdemeanor'\n",
    "]]\n",
    "y_1 = processed_df['Two_yr_Recidivism']\n",
    "\n",
    "# Train-test-split\n",
    "X_train_1, X_test_1, y_train_1, y_test_1 = train_test_split(X_1, y_1, test_size=0.3, random_state=101)\n",
    "\n",
    "# Fit model\n",
    "model_1 = LinearRegression()\n",
    "model_1.fit(X_train_1, y_train_1)\n",
    "\n",
    "# Create predictions\n",
    "preds_1 = model_1.predict(X_test_1)"
   ]
  },
  {
   "cell_type": "code",
   "execution_count": 197,
   "id": "7ff75dac",
   "metadata": {},
   "outputs": [
    {
     "data": {
      "text/html": [
       "<div>\n",
       "<style scoped>\n",
       "    .dataframe tbody tr th:only-of-type {\n",
       "        vertical-align: middle;\n",
       "    }\n",
       "\n",
       "    .dataframe tbody tr th {\n",
       "        vertical-align: top;\n",
       "    }\n",
       "\n",
       "    .dataframe thead th {\n",
       "        text-align: right;\n",
       "    }\n",
       "</style>\n",
       "<table border=\"1\" class=\"dataframe\">\n",
       "  <thead>\n",
       "    <tr style=\"text-align: right;\">\n",
       "      <th></th>\n",
       "      <th>coefficient</th>\n",
       "    </tr>\n",
       "  </thead>\n",
       "  <tbody>\n",
       "    <tr>\n",
       "      <th>Age_Below_TwentyFive</th>\n",
       "      <td>0.221427</td>\n",
       "    </tr>\n",
       "    <tr>\n",
       "      <th>African_American</th>\n",
       "      <td>0.040861</td>\n",
       "    </tr>\n",
       "    <tr>\n",
       "      <th>Number_of_Priors</th>\n",
       "      <td>0.029840</td>\n",
       "    </tr>\n",
       "    <tr>\n",
       "      <th>Hispanic</th>\n",
       "      <td>-0.042203</td>\n",
       "    </tr>\n",
       "    <tr>\n",
       "      <th>Misdemeanor</th>\n",
       "      <td>-0.049080</td>\n",
       "    </tr>\n",
       "    <tr>\n",
       "      <th>Female</th>\n",
       "      <td>-0.061442</td>\n",
       "    </tr>\n",
       "    <tr>\n",
       "      <th>Asian</th>\n",
       "      <td>-0.104517</td>\n",
       "    </tr>\n",
       "    <tr>\n",
       "      <th>Native_American</th>\n",
       "      <td>-0.162328</td>\n",
       "    </tr>\n",
       "  </tbody>\n",
       "</table>\n",
       "</div>"
      ],
      "text/plain": [
       "                      coefficient\n",
       "Age_Below_TwentyFive     0.221427\n",
       "African_American         0.040861\n",
       "Number_of_Priors         0.029840\n",
       "Hispanic                -0.042203\n",
       "Misdemeanor             -0.049080\n",
       "Female                  -0.061442\n",
       "Asian                   -0.104517\n",
       "Native_American         -0.162328"
      ]
     },
     "execution_count": 197,
     "metadata": {},
     "output_type": "execute_result"
    }
   ],
   "source": [
    "# Evaluate model coefficients\n",
    "pd.DataFrame(\n",
    "    columns=['coefficient'],\n",
    "    index=X_1.columns,\n",
    "    data=model_1.coef_\n",
    ").sort_values(by='coefficient', ascending=False)"
   ]
  },
  {
   "cell_type": "code",
   "execution_count": 210,
   "id": "5ab8456b",
   "metadata": {},
   "outputs": [
    {
     "name": "stdout",
     "output_type": "stream",
     "text": [
      "\n",
      "Mean = 0.4551198963058976\n",
      "Mean Absolute Error (MAE) = 0.43380391870301477\n",
      "Root Mean Square Error (RMSE)  = 0.46199335395276103\n",
      "\n"
     ]
    }
   ],
   "source": [
    "# Evaluate regression metrics\n",
    "print(f\"\"\"\n",
    "Mean = {processed_df['Two_yr_Recidivism'].mean()}\n",
    "Mean Absolute Error (MAE) = {mean_absolute_error(y_test_1, preds_1)}\n",
    "Root Mean Square Error (RMSE)  = {np.sqrt(mean_squared_error(y_test_1, preds_1))}\n",
    "\"\"\")"
   ]
  },
  {
   "cell_type": "markdown",
   "id": "b675a613",
   "metadata": {},
   "source": [
    "## Modelling for score_factor"
   ]
  },
  {
   "cell_type": "code",
   "execution_count": 207,
   "id": "0715b163",
   "metadata": {},
   "outputs": [],
   "source": [
    "# Splitting X and y\n",
    "X_2 = processed_df[[\n",
    "    'Number_of_Priors', 'Age_Below_TwentyFive', 'African_American', \n",
    "    'Hispanic', 'Asian', 'Native_American', 'Female', 'Misdemeanor'\n",
    "]]\n",
    "y_2 = processed_df['score_factor']\n",
    "\n",
    "# Train-test-split\n",
    "X_train_2, X_test_2, y_train_2, y_test_2 = train_test_split(X_2, y_2, test_size=0.3, random_state=101)\n",
    "\n",
    "# Fit model\n",
    "model_2 = LinearRegression()\n",
    "model_2.fit(X_train_2, y_train_2)\n",
    "\n",
    "# Create predictions\n",
    "preds_2 = model_2.predict(X_test_2)"
   ]
  },
  {
   "cell_type": "code",
   "execution_count": 208,
   "id": "23a240b5",
   "metadata": {},
   "outputs": [
    {
     "data": {
      "text/html": [
       "<div>\n",
       "<style scoped>\n",
       "    .dataframe tbody tr th:only-of-type {\n",
       "        vertical-align: middle;\n",
       "    }\n",
       "\n",
       "    .dataframe tbody tr th {\n",
       "        vertical-align: top;\n",
       "    }\n",
       "\n",
       "    .dataframe thead th {\n",
       "        text-align: right;\n",
       "    }\n",
       "</style>\n",
       "<table border=\"1\" class=\"dataframe\">\n",
       "  <thead>\n",
       "    <tr style=\"text-align: right;\">\n",
       "      <th></th>\n",
       "      <th>coefficient</th>\n",
       "    </tr>\n",
       "  </thead>\n",
       "  <tbody>\n",
       "    <tr>\n",
       "      <th>Age_Below_TwentyFive</th>\n",
       "      <td>0.325957</td>\n",
       "    </tr>\n",
       "    <tr>\n",
       "      <th>African_American</th>\n",
       "      <td>0.147863</td>\n",
       "    </tr>\n",
       "    <tr>\n",
       "      <th>Native_American</th>\n",
       "      <td>0.059469</td>\n",
       "    </tr>\n",
       "    <tr>\n",
       "      <th>Female</th>\n",
       "      <td>0.042137</td>\n",
       "    </tr>\n",
       "    <tr>\n",
       "      <th>Number_of_Priors</th>\n",
       "      <td>0.041021</td>\n",
       "    </tr>\n",
       "    <tr>\n",
       "      <th>Hispanic</th>\n",
       "      <td>-0.027450</td>\n",
       "    </tr>\n",
       "    <tr>\n",
       "      <th>Asian</th>\n",
       "      <td>-0.035415</td>\n",
       "    </tr>\n",
       "    <tr>\n",
       "      <th>Misdemeanor</th>\n",
       "      <td>-0.071619</td>\n",
       "    </tr>\n",
       "  </tbody>\n",
       "</table>\n",
       "</div>"
      ],
      "text/plain": [
       "                      coefficient\n",
       "Age_Below_TwentyFive     0.325957\n",
       "African_American         0.147863\n",
       "Native_American          0.059469\n",
       "Female                   0.042137\n",
       "Number_of_Priors         0.041021\n",
       "Hispanic                -0.027450\n",
       "Asian                   -0.035415\n",
       "Misdemeanor             -0.071619"
      ]
     },
     "execution_count": 208,
     "metadata": {},
     "output_type": "execute_result"
    }
   ],
   "source": [
    "# Evaluate model coefficients\n",
    "pd.DataFrame(\n",
    "    columns=['coefficient'],\n",
    "    index=X_2.columns,\n",
    "    data=model_2.coef_\n",
    ").sort_values(by='coefficient', ascending=False)"
   ]
  },
  {
   "cell_type": "code",
   "execution_count": 209,
   "id": "833858f6",
   "metadata": {},
   "outputs": [
    {
     "name": "stdout",
     "output_type": "stream",
     "text": [
      "\n",
      "Mean = 0.4551198963058976\n",
      "Mean Absolute Error (MAE) = 0.37293642131515037\n",
      "Root Mean Square Error (RMSE)  = 0.4225148906772379\n",
      "\n"
     ]
    }
   ],
   "source": [
    "# Evaluate regression metrics\n",
    "print(f\"\"\"\n",
    "Mean = {processed_df['Two_yr_Recidivism'].mean()}\n",
    "Mean Absolute Error (MAE) = {mean_absolute_error(y_test_2, preds_2)}\n",
    "Root Mean Square Error (RMSE)  = {np.sqrt(mean_squared_error(y_test_2, preds_2))}\n",
    "\"\"\")"
   ]
  }
 ],
 "metadata": {
  "kernelspec": {
   "display_name": "Python 3 (ipykernel)",
   "language": "python",
   "name": "python3"
  },
  "language_info": {
   "codemirror_mode": {
    "name": "ipython",
    "version": 3
   },
   "file_extension": ".py",
   "mimetype": "text/x-python",
   "name": "python",
   "nbconvert_exporter": "python",
   "pygments_lexer": "ipython3",
   "version": "3.9.7"
  }
 },
 "nbformat": 4,
 "nbformat_minor": 5
}
